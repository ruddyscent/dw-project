{
 "cells": [
  {
   "cell_type": "markdown",
   "metadata": {},
   "source": [
    "# OpenStreetMap Data Case Study"
   ]
  },
  {
   "cell_type": "markdown",
   "metadata": {},
   "source": [
    "## Map Area"
   ]
  },
  {
   "cell_type": "markdown",
   "metadata": {},
   "source": [
    "Gunsan, Jeollabuk-do, Republic of Korea\n",
    "\n",
    "* https://www.openstreetmap.org/export#map=10/35.9769/126.2219\n",
    "\n",
    "This map was downloaded at http://overpass-api.de/query_form.html using overpass API query form: `(node(35.6584, 125.4968, 36.2974, 126.9456);<;);out meta;`\n",
    "\n",
    "Since Gunsan is my home, I want to know what a database query reveals. I want an opportunity to contribute to the improvement of OpenStreetMap.org."
   ]
  },
  {
   "cell_type": "markdown",
   "metadata": {},
   "source": [
    "## Problems Encountered in the Map"
   ]
  },
  {
   "cell_type": "markdown",
   "metadata": {},
   "source": [
    "After initially downloading an original OSM of Gunsan, it is sampled to the 1/20 of the orignal size using `sample_osm.py.` After processing of the sample against the data.py file, I noticed five main problems with the data, which I will discuss in the following order:\n",
    "\n",
    "* Deprecated format of postal codes*(\"399-5\", “573-350”.)*\n",
    "\n",
    "* Deprecated foramt of address*(\"흑암동\", \"금봉동\".)*\n",
    "\n",
    "* Impractical and hard-to-read romanization of Korean names*(\"Uiryobeopinganggyeonguiryojaedandasaranghyoyoyangbyeongwon\", \"Janghangseongnugabyeongwonaptaeksihochuljeonhwa\", \"Malgeunsingyeongjeongsingwachoemyeonkeullinik\".)*"
   ]
  },
  {
   "cell_type": "markdown",
   "metadata": {},
   "source": [
    "### Postal Code"
   ]
  },
  {
   "cell_type": "markdown",
   "metadata": {},
   "source": [
    "The postal code system of the Republic of Korea was revised three times since it was first enacted on July 1, 1970, and the final revision took place in 2015([ref](https://ko.wikipedia.org/wiki/%EB%8C%80%ED%95%9C%EB%AF%BC%EA%B5%AD%EC%9D%98_%EC%9A%B0%ED%8E%B8%EB%B2%88%ED%9])). In the last revision, the current five-digit system replaced the former six-digit system.\n",
    "\n",
    "On the map, I looked at zip codes that did not match the current postal code format and how much they were used."
   ]
  },
  {
   "cell_type": "markdown",
   "metadata": {},
   "source": [
    "```sql\n",
    "sqlite> select tags.value, count(*) as count \n",
    "from (select * from nodes_tags union all select * from ways_tags) tags \n",
    "where tags.key = 'postcode' and (tags.value like '%-%' or length(tags.value) != 5) \n",
    "group by tags.value \n",
    "order by count desc; \n",
    "541102|3\n",
    "333707|1\n",
    "345-804|1\n",
    "399-5|1\n",
    "560-033|1\n",
    "560-500|1\n",
    "566-844|1\n",
    "573-350|1\n",
    "811-5|1\n",
    "856-1|1\n",
    "872-12|1\n",
    "```"
   ]
  },
  {
   "cell_type": "markdown",
   "metadata": {},
   "source": [
    "### Address Format"
   ]
  },
  {
   "cell_type": "markdown",
   "metadata": {},
   "source": [
    "The new address format based on the road was first enacted on April 5, 2007, and fully used since 2014.(https://goo.gl/CKqs9e) However the address format based on the district still remains at the map. The old address format can be identified with the following \"동(Dong)\" at the and of the district name. `<tag k=\"name\" v=\"흑암동\" />` These old-fashioned address formats are found on maps so much that the new address format seems to have not been firmly established yet.\n",
    "\n",
    "I looked into how many old address formats are coming up. The obstacle to the programmatic search is that '동' is also used as a building number notation; `<tag k=\"name\" v=\"105동\" />`. This type of building number is so diverse that it is almost impossible to process programmatically."
   ]
  },
  {
   "cell_type": "markdown",
   "metadata": {},
   "source": [
    "```sql\n",
    "sqlite> select tags.value, count(*) as count \n",
    "from (select * from nodes_tags union all select * from ways_tags) tags \n",
    "where tags.key = 'name' and tags.value like '%동' and tags.value not like '%아파트%' and tags.value glob '[^0-9]*' \n",
    "group by tags.value order by count desc;\n",
    "가동|3\n",
    "교동|3\n",
    "금암동|3\n",
    "나동|3\n",
    "나성동|3\n",
    "중동|3\n",
    "B동|2\n",
    "다동|2\n",
    "동산동|2\n",
    "반월동|2\n",
    "...\n",
    "```"
   ]
  },
  {
   "cell_type": "markdown",
   "metadata": {},
   "source": [
    "### Korean Romanization Notation"
   ]
  },
  {
   "cell_type": "markdown",
   "metadata": {},
   "source": [
    "\"k\" tags with the value \"name:ko_rm\" is Korean romanization notation. It is intended to provide a help foreigners to read Korean names. However, lots of values are hard to read aloud. Camel case or spacing is strongly required. The followings are the 10 longest romanizations without spacing."
   ]
  },
  {
   "cell_type": "markdown",
   "metadata": {},
   "source": [
    "```sql\n",
    "sqlite> select length(tags.value), tags.value \n",
    "from (select * from nodes_tags union all select * from ways_tags) tags \n",
    "where tags.key = 'ko_rm' and tags.value not like '% %' \n",
    "order by length(tags.value) desc \n",
    "limit 10;\n",
    "\n",
    "58|Uiryobeopinganggyeonguiryojaedandasaranghyoyoyangbyeongwon\n",
    "47|Janghangseongnugabyeongwonaptaeksihochuljeonhwa\n",
    "45|Malgeunsingyeongjeongsingwachoemyeonkeullinik\n",
    "45|Uiryobeopinsilloamuiryojaedansilloambyeongwon\n",
    "45|Sunchanggurimchodeunghakgyobyeongseolyuchiwon\n",
    "44|Buanchangbukchodeunghakgyobyeongseolyuchiwon\n",
    "44|Imsildeokchichodeunghakgyobyeongseolyuchiwon\n",
    "43|Gyeongcheonchodeunghakgyobyeongseolyuchiwon\n",
    "43|Byeongnyangchodeunghakgyobyeongseolyuchiwon\n",
    "43|Imsilsamgyechodeunghakgyobyeongseolyuchiwon\n",
    "```"
   ]
  },
  {
   "cell_type": "markdown",
   "metadata": {},
   "source": [
    "## Data Overview"
   ]
  },
  {
   "cell_type": "markdown",
   "metadata": {},
   "source": [
    "###  The Kind of the Tag and Number of Occurance"
   ]
  },
  {
   "cell_type": "markdown",
   "metadata": {},
   "source": [
    "```bash\n",
    "$ python mapparser.py \n",
    "{'member': 9904,\n",
    " 'meta': 1,\n",
    " 'nd': 993827,\n",
    " 'node': 843894,\n",
    " 'note': 1,\n",
    " 'osm': 1,\n",
    " 'relation': 424,\n",
    " 'tag': 238463,\n",
    " 'way': 83851}\n",
    "```"
   ]
  },
  {
   "cell_type": "markdown",
   "metadata": {},
   "source": [
    "### File sizes"
   ]
  },
  {
   "cell_type": "markdown",
   "metadata": {},
   "source": [
    "```bash\n",
    "$ ls -lh *.db *.osm *.csv\n",
    "-rw-r--r--  1 kwchun  staff    89M  5 22 22:52 gunsan.db\n",
    "-rw-r--r--  1 kwchun  staff   172M  5 21 23:12 gunsan.osm\n",
    "-rw-r--r--  1 kwchun  staff   8.7M  5 21 23:36 gunsan_sample.osm\n",
    "-rw-r--r--  1 kwchun  staff    68M  5 22 21:22 nodes.csv\n",
    "-rw-r--r--  1 kwchun  staff   2.7M  5 22 21:22 nodes_tags.csv\n",
    "-rw-r--r--  1 kwchun  staff   4.9M  5 22 21:33 ways.csv\n",
    "-rw-r--r--  1 kwchun  staff    23M  5 22 21:33 ways_nodes.csv\n",
    "-rw-r--r--  1 kwchun  staff   5.5M  5 22 21:33 ways_tags.csv\n",
    "```"
   ]
  },
  {
   "cell_type": "markdown",
   "metadata": {},
   "source": [
    "### Number of nodes"
   ]
  },
  {
   "cell_type": "markdown",
   "metadata": {},
   "source": [
    "```sql\n",
    "sqlite> select count(*) from nodes;\n",
    "\n",
    "843894\n",
    "```"
   ]
  },
  {
   "cell_type": "markdown",
   "metadata": {},
   "source": [
    "### Number of ways"
   ]
  },
  {
   "cell_type": "markdown",
   "metadata": {},
   "source": [
    "```sql\n",
    "sqlite> select count(*) from ways;\n",
    "\n",
    "83851\n",
    "```"
   ]
  },
  {
   "cell_type": "markdown",
   "metadata": {},
   "source": [
    "### Number of unique users"
   ]
  },
  {
   "cell_type": "markdown",
   "metadata": {},
   "source": [
    "```sql\n",
    "sqlite> select count(distinct(e.uid)) \n",
    "from (select uid from nodes union all select uid from ways) e;\n",
    "\n",
    "537\n",
    "```"
   ]
  },
  {
   "cell_type": "markdown",
   "metadata": {},
   "source": [
    "### Top 10 contributing users"
   ]
  },
  {
   "cell_type": "markdown",
   "metadata": {},
   "source": [
    "```sql\n",
    "sqlite> select e.user, count(*) as num \n",
    "from (select user from nodes union all select user from ways) e \n",
    "group by e.user \n",
    "order by num desc \n",
    "limit 10;\n",
    "\n",
    "generalred|325870\n",
    "maphunter36|210195\n",
    "alimamo|131724\n",
    "lorenzo23622|24598\n",
    "Ataur Rahman Shaheen|22563\n",
    "cyana|19948\n",
    "Jockhyeng1|11454\n",
    "octel|9301\n",
    "KLon12|9212\n",
    "沈偉 (Wei-shen)|6969\n",
    "```"
   ]
  },
  {
   "cell_type": "markdown",
   "metadata": {},
   "source": [
    "### Number of users posted only once"
   ]
  },
  {
   "cell_type": "markdown",
   "metadata": {},
   "source": [
    "```sql\n",
    "sqlite> select count(*) \n",
    "from (select e.user, count(*) as num\n",
    "from (select user from nodes union all select user from ways) e\n",
    "group by e.user\n",
    "having num=1)  u;\n",
    "\n",
    "70\n",
    "```"
   ]
  },
  {
   "cell_type": "markdown",
   "metadata": {},
   "source": [
    "## Other Ideas about the Dataset"
   ]
  },
  {
   "cell_type": "markdown",
   "metadata": {},
   "source": [
    "According to [Ko:Map Features](http://wiki.openstreetmap.org/wiki/Ko:Map_Features#.ED.91.9C.EA.B8.B0.EB.B2.95), Korean name should be indicated in 'name' and 'name: ko', and English name in 'name: en'. However, out of the 230,000 tags, over 10,000 tags are written in the form of *Korean name (English name).* This is probably the easiest error to find in Gunsan map."
   ]
  },
  {
   "cell_type": "markdown",
   "metadata": {},
   "source": [
    "```sql\n",
    "sqlite> select count(*)\n",
    "from (select * from nodes_tags union all select * from ways_tags) tags;\"\n",
    "\n",
    "236809\n",
    "\n",
    "sqlite> select count(*)\n",
    "from (select * from nodes_tags union all select * from ways_tags) tags\n",
    "where tags.value like '%(%';\"\n",
    "\n",
    "12727\n",
    "```"
   ]
  },
  {
   "cell_type": "markdown",
   "metadata": {},
   "source": [
    "## Additional Data Exploration"
   ]
  },
  {
   "cell_type": "markdown",
   "metadata": {},
   "source": [
    "### Top 10 appearing amenities"
   ]
  },
  {
   "cell_type": "markdown",
   "metadata": {},
   "source": [
    "```sql\n",
    "sqlite> select value, count(*) as num\n",
    "from nodes_tags\n",
    "where key='amenity'\n",
    "group by value\n",
    "order by num desc\n",
    "limit 10;\n",
    "\n",
    "hospital|1363\n",
    "school|389\n",
    "fuel|343\n",
    "restaurant|276\n",
    "dentist|218\n",
    "bank|213\n",
    "kindergarten|203\n",
    "clinic|199\n",
    "doctors|183\n",
    "place_of_worship|156\n",
    "```"
   ]
  },
  {
   "cell_type": "markdown",
   "metadata": {},
   "source": [
    "### Biggest religion"
   ]
  },
  {
   "cell_type": "markdown",
   "metadata": {},
   "source": [
    "```sql\n",
    "sqlite> select nodes_tags.value, count(*) as num\n",
    "from nodes_tags \n",
    "join (select distinct(id) from nodes_tags where value='place_of_worship') i\n",
    "on nodes_tags.id=i.id\n",
    "where nodes_tags.key='religion'\n",
    "group by nodes_tags.value\n",
    "order by num desc;\n",
    "\n",
    "christian|90\n",
    "buddhist|40\n",
    "jeungsan|1\n",
    "```"
   ]
  },
  {
   "cell_type": "markdown",
   "metadata": {},
   "source": [
    "### Most popular cuisines"
   ]
  },
  {
   "cell_type": "markdown",
   "metadata": {},
   "source": [
    "```sql\n",
    "sqlite> select nodes_tags.value, count(*) as num\n",
    "from nodes_tags \n",
    "join (select distinct(id) from nodes_tags where value='restaurant') i\n",
    "on nodes_tags.id=i.id\n",
    "where nodes_tags.key='cuisine'\n",
    "group by nodes_tags.value\n",
    "order by num desc\n",
    "limit 3;\n",
    "\n",
    "korean|7\n",
    "chicken|6\n",
    "asian|5\n",
    "```"
   ]
  },
  {
   "cell_type": "markdown",
   "metadata": {},
   "source": [
    "## Conclusion"
   ]
  },
  {
   "cell_type": "markdown",
   "metadata": {},
   "source": [
    "As an example of Korean map, I looked at a map of Gunsan area and looked for problems. Modification of data that does not follow the new postal code and address scheme requires manual operation using external data. Another common problem is the *Korean (English)* format in 'name' field which violates the tag recommendations. I suspect that this problem can be fixed in a programmatic way."
   ]
  }
 ],
 "metadata": {
  "kernelspec": {
   "display_name": "Python 3",
   "language": "python",
   "name": "python3"
  },
  "language_info": {
   "codemirror_mode": {
    "name": "ipython",
    "version": 3
   },
   "file_extension": ".py",
   "mimetype": "text/x-python",
   "name": "python",
   "nbconvert_exporter": "python",
   "pygments_lexer": "ipython3",
   "version": "3.6.4"
  }
 },
 "nbformat": 4,
 "nbformat_minor": 2
}
